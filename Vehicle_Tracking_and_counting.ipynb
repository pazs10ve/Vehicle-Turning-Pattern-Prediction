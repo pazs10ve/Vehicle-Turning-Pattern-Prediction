{
  "cells": [
    {
      "cell_type": "code",
      "execution_count": null,
      "metadata": {
        "id": "QFcjzRqTdIq7"
      },
      "outputs": [],
      "source": [
        "from ultralytics import YOLO\n",
        "import os\n",
        "import cv2\n",
        "import numpy as np\n",
        "import pandas as pd\n",
        "from collections import defaultdict\n",
        "from PIL import Image, ImageDraw\n",
        "from tqdm import tqdm\n",
        "import csv"
      ]
    },
    {
      "cell_type": "code",
      "execution_count": null,
      "metadata": {
        "colab": {
          "base_uri": "https://localhost:8080/"
        },
        "id": "Ov6TjXxHdIty",
        "outputId": "1a2ddf4b-c803-4b5c-b127-006760f52a65"
      },
      "outputs": [],
      "source": [
        "#drive_folder = '/content/drive/MyDrive/Bengaluru Mobility Challenge Solution'\n",
        "#model_path = os.path.join(drive_folder, 'runs/detect/train/weights/best.pt')\n",
        "\n",
        "model_path = r\"C:\\Users\\sharm\\Python Projects\\ML Projects\\Bengaluru Mobility Challenge\\Bengaluru Mobility Challenge Solution\\runs\\detect\\train\\weights\\best.pt\"\n",
        "yolo_model = YOLO(model_path)\n",
        "print(\"Model loaded successfully!\")"
      ]
    },
    {
      "cell_type": "code",
      "execution_count": null,
      "metadata": {
        "id": "rFgX4ArED-34"
      },
      "outputs": [],
      "source": [
        "zones = {\n",
        "    'A': [(0, 0), (150, 200)],\n",
        "    'B': [(0, 200), (150, 450)],\n",
        "    'C': [(150, 0), (400, 130)],\n",
        "    'D': [(400, 0), (630, 130)],\n",
        "    'E': [(630, 0), (750, 200)],\n",
        "    'F': [(630, 200), (750, 430)]\n",
        "}"
      ]
    },
    {
      "cell_type": "code",
      "execution_count": null,
      "metadata": {
        "colab": {
          "base_uri": "https://localhost:8080/",
          "height": 442
        },
        "id": "DBBpGDi0J6EH",
        "outputId": "7ae97892-9feb-4cd1-8faa-aec6dc1a45d0"
      },
      "outputs": [],
      "source": [
        "#zones_img = Image.open(\"/content/drive/MyDrive/Bengaluru Mobility Challenge Solution/Video File/zones_image.webp\").convert(\"RGBA\")\n",
        "zones_img = Image.open(r\"C:\\Users\\sharm\\Python Projects\\ML Projects\\Bengaluru Mobility Challenge\\Bengaluru Mobility Challenge Solution\\Video File\\zones_image.webp\")\n",
        "draw = ImageDraw.Draw(zones_img, \"RGBA\")\n",
        "\n",
        "\n",
        "colors = {\n",
        "    'A': (255, 0, 0, 128),\n",
        "    'B': (0, 255, 0, 128),\n",
        "    'C': (0, 0, 255, 128),\n",
        "    'D': (255, 255, 0, 128),\n",
        "    'E': (255, 0, 255, 128),\n",
        "    'F': (0, 255, 255, 128)\n",
        "}\n",
        "\n",
        "for zone, coords in zones.items():\n",
        "    draw.rectangle(coords, outline=colors[zone], fill=None, width = 4)\n",
        "\n",
        "zones_img\n",
        "\n",
        "#zones_img.save(\"zones_visualized.png\")"
      ]
    },
    {
      "cell_type": "code",
      "execution_count": null,
      "metadata": {
        "id": "F_-fCrcEEJCn"
      },
      "outputs": [],
      "source": [
        "#track_history = defaultdict(lambda: [])"
      ]
    },
    {
      "cell_type": "code",
      "execution_count": null,
      "metadata": {
        "id": "G56kSaohEJF-"
      },
      "outputs": [],
      "source": [
        "\"\"\"  \n",
        "vehicle_counts = {\n",
        "    'BC': defaultdict(int), 'BE': defaultdict(int), 'DE': defaultdict(int),\n",
        "    'DF': defaultdict(int), 'FA': defaultdict(int), 'FC': defaultdict(int)\n",
        "} \"\"\""
      ]
    },
    {
      "cell_type": "code",
      "execution_count": null,
      "metadata": {},
      "outputs": [],
      "source": [
        "track_history = defaultdict(list)\n",
        "vehicle_classes = defaultdict(int)"
      ]
    },
    {
      "cell_type": "code",
      "execution_count": null,
      "metadata": {},
      "outputs": [],
      "source": [
        "\n",
        "def transform_point(point, frame_width, frame_height):\n",
        "    orig_width, orig_height = 1920, 1080\n",
        "    x_scale = frame_width / orig_width\n",
        "    y_scale = frame_height / orig_height\n",
        "    return (point[0] / x_scale, point[1] / y_scale)\n",
        "\n",
        "def point_in_zone(point, zone, frame_width, frame_height):\n",
        "    transformed_point = transform_point(point, frame_width, frame_height)\n",
        "    x, y = transformed_point\n",
        "    return (zone[0][0] <= x <= zone[1][0]) and (zone[0][1] <= y <= zone[1][1])\n",
        "\n",
        "def get_zone(point, frame_width, frame_height):\n",
        "    for zone_name, zone_coords in zones.items():\n",
        "        if point_in_zone(point, zone_coords, frame_width, frame_height):\n",
        "            return zone_name\n",
        "    return None\n",
        "\n",
        "\n",
        "def get_turning_pattern(start_zone, end_zone):\n",
        "    patterns = {\n",
        "        ('B', 'C'): 'BC', ('B', 'E'): 'BE', \n",
        "        ('D', 'E'): 'DE', ('D', 'F'): 'DF', \n",
        "        ('F', 'A'): 'FA', ('F', 'C'): 'FC'\n",
        "    }\n",
        "    return patterns.get((start_zone, end_zone))\n"
      ]
    },
    {
      "cell_type": "code",
      "execution_count": null,
      "metadata": {
        "colab": {
          "base_uri": "https://localhost:8080/",
          "height": 36
        },
        "id": "_sUwNwLUaC9H",
        "outputId": "9a86e747-28ce-42da-a1b9-1fe649b175bb"
      },
      "outputs": [],
      "source": [
        "#video_file = '/content/drive/MyDrive/Bengaluru Mobility Challenge Solution/Video File/Stn_HD_1_time_2024-05-29T07:30:02_002.mp4'\n",
        "video_file = r\"C:\\Users\\sharm\\Python Projects\\ML Projects\\Bengaluru Mobility Challenge\\Bengaluru Mobility Challenge Solution\\Video File\\Stn_HD_1_time_2024-05-29T07_30_02_002.mp4\"\n",
        "#video_file = r\"C:\\Users\\sharm\\Python Projects\\ML Projects\\Bengaluru Mobility Challenge\\Bengaluru Mobility Challenge Solution\\Video File\\Stn_HD_1_time_2024-05-25T07_30_01_008.mp4\"\n",
        "video_file"
      ]
    },
    {
      "cell_type": "code",
      "execution_count": null,
      "metadata": {
        "colab": {
          "base_uri": "https://localhost:8080/"
        },
        "id": "kXHdQBBrahCU",
        "outputId": "c6b786f0-82e6-4d70-e77b-3569693403d8"
      },
      "outputs": [],
      "source": [
        "cap = cv2.VideoCapture(video_file)\n",
        "total_frames = int(cap.get(cv2.CAP_PROP_FRAME_COUNT))\n",
        "fps = cap.get(cv2.CAP_PROP_FPS)\n",
        "duration = total_frames / fps\n",
        "frame_width = int(cap.get(cv2.CAP_PROP_FRAME_WIDTH))\n",
        "frame_height = int(cap.get(cv2.CAP_PROP_FRAME_HEIGHT))\n",
        "\n",
        "print(f\"Total frames: {total_frames}\")\n",
        "print(f\"Frame width : {frame_width}\")\n",
        "print(f\"Frames height : {frame_height}\")\n",
        "print(f\"Frames per second (FPS): {fps}\")\n",
        "print(f\"Duration of video (in seconds): {duration:.2f}\")"
      ]
    },
    {
      "cell_type": "code",
      "execution_count": null,
      "metadata": {},
      "outputs": [],
      "source": [
        "\"\"\" vehicle_tracks = defaultdict(lambda: {'start': None, 'end': None, 'class': None})\n",
        "output_dir = r\"C:\\Users\\sharm\\Python Projects\\ML Projects\\Bengaluru Mobility Challenge\\Bengaluru Mobility Challenge Solution\\frames\"\n",
        "os.makedirs(output_dir, exist_ok=True)\n",
        "\n",
        "log_file_path = os.path.join(output_dir, 'processing_log.txt')\n",
        "with open(log_file_path, 'w') as log_file:\n",
        "    frame_count = 0\n",
        "    progress_bar = tqdm(total=total_frames, desc='Processing Video', unit='frame', \n",
        "                        file=log_file, dynamic_ncols=True)\n",
        "\n",
        "    while cap.isOpened():\n",
        "        success, frame = cap.read()\n",
        "        if not success:\n",
        "            break\n",
        "        \n",
        "        results = yolo_model.track(frame, persist=True)\n",
        "        try:\n",
        "            boxes = results[0].boxes.xywh.cpu()\n",
        "            track_ids = results[0].boxes.id.int().cpu().tolist()\n",
        "            classes = results[0].boxes.cls.int().cpu().tolist()\n",
        "            annotated_frame = results[0].plot()\n",
        "            \n",
        "            for box, track_id, cls in zip(boxes, track_ids, classes):\n",
        "                x, y, w, h = box\n",
        "                track = track_history[track_id]\n",
        "                track.append((float(x), float(y)))\n",
        "                current_zone = next((zone for zone, coords in zones.items() if point_in_zone((x, y), coords)), None)\n",
        "                \n",
        "                if len(track) == 1:\n",
        "                    track[0] = (current_zone, cls)\n",
        "                elif len(track) > 30:\n",
        "                    track.pop(1)\n",
        "                \n",
        "                if current_zone and current_zone != track[0][0]:\n",
        "                    start_zone, vehicle_class = track[0]\n",
        "                    pattern = get_turning_pattern(start_zone, current_zone)\n",
        "                    if pattern:\n",
        "                        vehicle_counts[pattern][vehicle_class] += 1\n",
        "                    track[0] = (current_zone, cls)\n",
        "                \n",
        "                points = np.array(track[1:]).astype(np.int32).reshape((-1, 1, 2))\n",
        "                cv2.polylines(annotated_frame, [points], isClosed=False, color=(230, 230, 230), thickness=2)\n",
        "            \n",
        "            frame_filename = f\"frame_{frame_count:06d}.jpg\"\n",
        "            frame_path = os.path.join(output_dir, frame_filename)\n",
        "            cv2.imwrite(frame_path, annotated_frame)\n",
        "            \n",
        "            log_file.write(f\"Frame {frame_count}: {len(boxes)} detections\\n\")\n",
        "            log_file.flush()  \n",
        "            \n",
        "            frame_count += 1\n",
        "            progress_bar.update(1)\n",
        "            \n",
        "            cv2.imshow(\"Vehicle Tracking\", annotated_frame)\n",
        "            \n",
        "            if cv2.waitKey(1) & 0xFF == ord('q'):\n",
        "                break\n",
        "        \n",
        "        except:\n",
        "            pass\n",
        "\n",
        "    progress_bar.close()\n",
        "\n",
        "cap.release()\n",
        "cv2.destroyAllWindows()\n",
        "\n",
        "with open(log_file_path, 'a') as log_file:\n",
        "    log_file.write(\"\\nFinal Vehicle Counts:\\n\")\n",
        "    for pattern, counts in vehicle_counts.items():\n",
        "        log_file.write(f\"{pattern}: {counts}\\n\") \"\"\""
      ]
    },
    {
      "cell_type": "code",
      "execution_count": null,
      "metadata": {},
      "outputs": [],
      "source": [
        "output_dir = r\"C:\\Users\\sharm\\Python Projects\\ML Projects\\Bengaluru Mobility Challenge\\Bengaluru Mobility Challenge Solution\\frames\"\n",
        "os.makedirs(output_dir, exist_ok=True)\n",
        "\n",
        "log_file_path = os.path.join(output_dir, 'processing_log.txt')\n",
        "with open(log_file_path, 'w') as log_file:\n",
        "    frame_count = 0\n",
        "    progress_bar = tqdm(total=total_frames, desc='Processing Video', unit='frame', \n",
        "                        file=log_file, dynamic_ncols=True)\n",
        "\n",
        "    while cap.isOpened():\n",
        "        success, frame = cap.read()\n",
        "        frame = cv2.resize(frame, (640, 384))\n",
        "        if not success:\n",
        "            break\n",
        "        \n",
        "        results = yolo_model.track(frame, tracker = 'bytetrack.yaml', persist=True)\n",
        "        try:\n",
        "            boxes = results[0].boxes.xywh.cpu()\n",
        "            track_ids = results[0].boxes.id.int().cpu().tolist()\n",
        "            classes = results[0].boxes.cls.int().cpu().tolist()\n",
        "            annotated_frame = results[0].plot()\n",
        "            \n",
        "            for box, track_id, cls in zip(boxes, track_ids, classes):\n",
        "                x, y, w, h = box\n",
        "                track_history[track_id].append((float(x), float(y)))\n",
        "                vehicle_classes[track_id] = cls\n",
        "                \n",
        "                # Visualization (optional)\n",
        "                points = np.array(track_history[track_id]).astype(np.int32).reshape((-1, 1, 2))\n",
        "                cv2.polylines(annotated_frame, [points], isClosed=False, color=(230, 230, 230), thickness=2)\n",
        "            \n",
        "            frame_filename = f\"frame_{frame_count:06d}.jpg\"\n",
        "            frame_path = os.path.join(output_dir, frame_filename)\n",
        "            cv2.imwrite(frame_path, annotated_frame)\n",
        "            \n",
        "            log_file.write(f\"Frame {frame_count}: {len(boxes)} detections\\n\")\n",
        "            log_file.flush()  \n",
        "            \n",
        "            frame_count += 1\n",
        "            progress_bar.update(1)\n",
        "\n",
        "            cv2.namedWindow(\"Vehicle Tracking\", cv2.WINDOW_NORMAL)\n",
        "            cv2.imshow(\"Vehicle Tracking\", annotated_frame)\n",
        "            \n",
        "            if cv2.waitKey(1) & 0xFF == ord('q'):\n",
        "                break\n",
        "        \n",
        "        except Exception as e:\n",
        "            log_file.write(f\"Error in frame {frame_count}: {str(e)}\\n\")\n",
        "    \n",
        "    progress_bar.close()\n",
        "\n",
        "cap.release()\n",
        "cv2.destroyAllWindows()"
      ]
    },
    {
      "cell_type": "code",
      "execution_count": null,
      "metadata": {},
      "outputs": [],
      "source": [
        "vehicle_counts = defaultdict(lambda: defaultdict(int))\n",
        "\n",
        "def analyze_track(history):\n",
        "    if len(history) < 2:  \n",
        "        return None, None\n",
        "    \n",
        "    start_points = history[:5] \n",
        "    end_points = history[-5:]  \n",
        "    \n",
        "    start_zone = max(set(get_zone(p) for p in start_points), key=start_points.count)\n",
        "    end_zone = max(set(get_zone(p) for p in end_points), key=end_points.count)\n",
        "    \n",
        "    return start_zone, end_zone\n",
        "\n",
        "for track_id, history in track_history.items():\n",
        "    print(\"printing the track id and it's history\")\n",
        "    print(track_id, history)\n",
        "    start_zone, end_zone = analyze_track(history)\n",
        "    print(\"Printing the start zone and the end zone\")\n",
        "    print(start_zone, end_zone)\n",
        "    if start_zone and end_zone and start_zone != end_zone:\n",
        "        pattern = get_turning_pattern(start_zone, end_zone)\n",
        "        if pattern:\n",
        "            vehicle_class = vehicle_classes[track_id]\n",
        "            vehicle_counts[pattern][vehicle_class] += 1\n",
        "\n",
        "\n",
        "with open(log_file_path, 'a') as log_file:\n",
        "    log_file.write(\"\\nFinal Vehicle Counts:\\n\")\n",
        "    for pattern, counts in vehicle_counts.items():\n",
        "        log_file.write(f\"{pattern}: {counts}\\n\")\n",
        "        "
      ]
    },
    {
      "cell_type": "code",
      "execution_count": null,
      "metadata": {},
      "outputs": [],
      "source": [
        "print(len(track_history))"
      ]
    },
    {
      "cell_type": "code",
      "execution_count": null,
      "metadata": {},
      "outputs": [],
      "source": [
        "\"\"\" vehicle_counts = defaultdict(lambda: defaultdict(int))\n",
        "\n",
        "def transform_point(point, frame_width, frame_height):\n",
        "    orig_width, orig_height = 1920, 1080\n",
        "    x_scale = frame_width / orig_width\n",
        "    y_scale = frame_height / orig_height\n",
        "    return (point[0] / x_scale, point[1] / y_scale)\n",
        "\n",
        "def get_zone(point, frame_width, frame_height):\n",
        "    transformed_point = transform_point(point, frame_width, frame_height)\n",
        "    for zone_name, zone_coords in zones.items():\n",
        "        if (zone_coords[0][0] <= transformed_point[0] <= zone_coords[1][0] and \n",
        "            zone_coords[0][1] <= transformed_point[1] <= zone_coords[1][1]):\n",
        "            return zone_name\n",
        "    return None\n",
        "\n",
        "def analyze_track(history, frame_width, frame_height):\n",
        "    if len(history) < 2:  \n",
        "        return None, None\n",
        "    \n",
        "    start_points = history[:5] if len(history) >= 5 else history\n",
        "    end_points = history[-5:] if len(history) >= 5 else history\n",
        "    \n",
        "    start_zones = [get_zone(p, frame_width, frame_height) for p in start_points]\n",
        "    end_zones = [get_zone(p, frame_width, frame_height) for p in end_points]\n",
        "    \n",
        "    start_zone = max(set(start_zones) - {None}, key=start_zones.count, default=None)\n",
        "    end_zone = max(set(end_zones) - {None}, key=end_zones.count, default=None)\n",
        "    \n",
        "    return start_zone, end_zone\n",
        "\n",
        "print(\"Analyzing tracks...\")\n",
        "for track_id, history in track_history.items():\n",
        "    print(f\"Track ID: {track_id}\")\n",
        "    print(f\"Track History: {history}\")\n",
        "    \n",
        "    start_zone, end_zone = analyze_track(history, frame_width, frame_height)\n",
        "    \n",
        "    print(f\"Start Zone: {start_zone}, End Zone: {end_zone}\")\n",
        "    \n",
        "    if start_zone and end_zone and start_zone != end_zone:\n",
        "        pattern = get_turning_pattern(start_zone, end_zone)\n",
        "        if pattern:\n",
        "            vehicle_class = vehicle_classes[track_id]\n",
        "            vehicle_counts[pattern][vehicle_class] += 1\n",
        "            print(f\"Turning Pattern: {pattern}, Vehicle Class: {vehicle_class}\")\n",
        "        else:\n",
        "            print(f\"No valid turning pattern for {start_zone} to {end_zone}\")\n",
        "    else:\n",
        "        print(\"No valid turn detected\")\n",
        "    \n",
        "    print(\"---\")\n",
        "\n",
        "print(\"\\nFinal Vehicle Counts:\")\n",
        "for pattern, counts in vehicle_counts.items():\n",
        "    print(f\"{pattern}: {counts}\")\n",
        "\n",
        "with open(log_file_path, 'a') as log_file:\n",
        "    log_file.write(\"\\nFinal Vehicle Counts:\\n\")\n",
        "    for pattern, counts in vehicle_counts.items():\n",
        "        log_file.write(f\"{pattern}: {counts}\\n\") \"\"\""
      ]
    },
    {
      "cell_type": "code",
      "execution_count": null,
      "metadata": {},
      "outputs": [],
      "source": [
        "vehicle_counts"
      ]
    },
    {
      "cell_type": "code",
      "execution_count": null,
      "metadata": {},
      "outputs": [],
      "source": [
        "csv_file_path = os.path.join(output_dir, 'vehicle_counts.csv')\n",
        "with open(csv_file_path, 'w', newline='') as csvfile:\n",
        "    writer = csv.writer(csvfile)\n",
        "    writer.writerow(['Turning Patterns', 'bicycle', 'car', 'truck', 'lcv', 'two-wheeler', 'three-wheeler', 'bus'])\n",
        "    for pattern in ['BC', 'BE', 'DE', 'DF', 'FA', 'FC']:\n",
        "        counts = vehicle_counts[pattern]\n",
        "        row = [pattern] + [counts[i] for i in range(7)]  \n",
        "        writer.writerow(row)"
      ]
    },
    {
      "cell_type": "code",
      "execution_count": null,
      "metadata": {
        "id": "qeSY2fyQl0nJ"
      },
      "outputs": [],
      "source": [
        "vehicle_counts"
      ]
    },
    {
      "cell_type": "code",
      "execution_count": null,
      "metadata": {
        "id": "BfOwqwOyEhGZ"
      },
      "outputs": [],
      "source": [
        "\"\"\"\"\n",
        "class_names = ['bicycle', 'car', 'truck', 'lcv', 'two-wheeler', 'three-wheeler', 'bus']\n",
        "with open('vehicle_counts.csv', 'w', newline='') as csvfile:\n",
        "    writer = csv.writer(csvfile)\n",
        "    writer.writerow(['Turning Patterns'] + class_names)\n",
        "    for pattern in ['BC', 'BE', 'DE', 'DF', 'FA', 'FC']:\n",
        "        row = [pattern] + [vehicle_counts[pattern][i] for i in range(len(class_names))]\n",
        "        writer.writerow(row)\n",
        "\"\"\""
      ]
    },
    {
      "cell_type": "code",
      "execution_count": null,
      "metadata": {
        "id": "Kpdre6AZdI6G"
      },
      "outputs": [],
      "source": []
    },
    {
      "cell_type": "code",
      "execution_count": null,
      "metadata": {
        "id": "1xtV6jyZdI9m"
      },
      "outputs": [],
      "source": []
    },
    {
      "cell_type": "code",
      "execution_count": null,
      "metadata": {},
      "outputs": [],
      "source": []
    },
    {
      "cell_type": "code",
      "execution_count": null,
      "metadata": {},
      "outputs": [],
      "source": []
    }
  ],
  "metadata": {
    "accelerator": "GPU",
    "colab": {
      "gpuType": "T4",
      "provenance": []
    },
    "kernelspec": {
      "display_name": "Python 3",
      "name": "python3"
    },
    "language_info": {
      "codemirror_mode": {
        "name": "ipython",
        "version": 3
      },
      "file_extension": ".py",
      "mimetype": "text/x-python",
      "name": "python",
      "nbconvert_exporter": "python",
      "pygments_lexer": "ipython3",
      "version": "3.12.4"
    }
  },
  "nbformat": 4,
  "nbformat_minor": 0
}
